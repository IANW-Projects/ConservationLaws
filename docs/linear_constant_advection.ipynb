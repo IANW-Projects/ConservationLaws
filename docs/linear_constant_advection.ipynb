{
 "cells": [
  {
   "cell_type": "markdown",
   "metadata": {},
   "source": [
    "# Linear Constant Advection\n",
    "\n",
    "The linear advection equation with constant velocity $a = (a_1, a_2, a_3)$ is\n",
    "\n",
    "\\begin{equation}\n",
    "\\begin{aligned}\n",
    "    \\partial_t u(t,x) + a_j \\cdot \\partial_j u(t,x) &= 0,\n",
    "    && t \\in (0,T), x \\in \\Omega,\n",
    "    \\\\\n",
    "    u(0,x) &= u_0(x),\n",
    "    && x \\in \\Omega,\n",
    "\\end{aligned}\n",
    "\\end{equation}\n",
    "\n",
    "and has to be augmented by suitable boundary conditions, e.g. periodic ones."
   ]
  },
  {
   "cell_type": "markdown",
   "metadata": {},
   "source": [
    "## Numerical Volume Fluxes\n",
    "\n",
    "The standard numerical volume flux is the central one, i.e.\n",
    "\n",
    "\\begin{equation}\n",
    "    f^{\\mathrm{num},j}_{m,k} = a_j \\frac{u^{(k)} + u^{(m)}}{2}.\n",
    "\\end{equation}\n"
   ]
  }
 ],
 "metadata": {
  "kernelspec": {
   "display_name": "Python 3",
   "language": "python",
   "name": "python3"
  },
  "language_info": {
   "codemirror_mode": {
    "name": "ipython",
    "version": 3
   },
   "file_extension": ".py",
   "mimetype": "text/x-python",
   "name": "python",
   "nbconvert_exporter": "python",
   "pygments_lexer": "ipython3",
   "version": "3.6.6"
  }
 },
 "nbformat": 4,
 "nbformat_minor": 2
}
